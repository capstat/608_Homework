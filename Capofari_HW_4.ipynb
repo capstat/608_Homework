{
 "cells": [
  {
   "cell_type": "code",
   "execution_count": 1,
   "metadata": {
    "collapsed": false
   },
   "outputs": [],
   "source": [
    "#!/usr/bin/python3\n",
    "import pandas as pd\n",
    "import numpy as np\n",
    "import re\n",
    "from ggplot import *\n",
    "from scipy.stats import gmean\n",
    "#from stack overflow to set number format\n",
    "pd.set_option('display.float_format', lambda x: '%.3f' % x)"
   ]
  },
  {
   "cell_type": "code",
   "execution_count": 2,
   "metadata": {
    "collapsed": false
   },
   "outputs": [],
   "source": [
    "first_part = \"https://raw.githubusercontent.com/\"\n",
    "second_part = \"jlaurito/CUNY_IS608/master/lecture4/data/riverkeeper_data_2013.csv\"\n",
    "try:\n",
    "    h2o = pd.read_csv(first_part + second_part)\n",
    "except:\n",
    "    h2o = pd.read_csv(\"riverdata.csv\")"
   ]
  },
  {
   "cell_type": "code",
   "execution_count": 3,
   "metadata": {
    "collapsed": false
   },
   "outputs": [
    {
     "name": "stdout",
     "output_type": "stream",
     "text": [
      "                        Site        Date EnteroCount  FourDayRainTotal  \\\n",
      "0  Hudson above Mohawk River  10/16/2011        1733             1.500   \n",
      "1  Hudson above Mohawk River  10/21/2013           4             0.200   \n",
      "2  Hudson above Mohawk River   9/21/2013          20             0.000   \n",
      "3  Hudson above Mohawk River   8/19/2013           6             0.000   \n",
      "4  Hudson above Mohawk River   7/21/2013          31             0.000   \n",
      "\n",
      "   SampleCount  \n",
      "0           35  \n",
      "1           35  \n",
      "2           35  \n",
      "3           35  \n",
      "4           35  \n"
     ]
    },
    {
     "data": {
      "text/plain": [
       "Site                 object\n",
       "Date                 object\n",
       "EnteroCount          object\n",
       "FourDayRainTotal    float64\n",
       "SampleCount           int64\n",
       "dtype: object"
      ]
     },
     "execution_count": 3,
     "metadata": {},
     "output_type": "execute_result"
    }
   ],
   "source": [
    "#take a peek at the data\n",
    "print(h2o.head())\n",
    "h2o.dtypes"
   ]
  },
  {
   "cell_type": "code",
   "execution_count": 4,
   "metadata": {
    "collapsed": false
   },
   "outputs": [
    {
     "name": "stdout",
     "output_type": "stream",
     "text": [
      "1587   2006-09-19\n",
      "1752   2006-09-19\n",
      "1799   2006-09-19\n",
      "1889   2006-09-19\n",
      "1661   2006-09-19\n",
      "Name: Date, dtype: datetime64[ns]\n",
      "39    2013-10-21\n",
      "177   2013-10-21\n",
      "427   2013-10-21\n",
      "312   2013-10-21\n",
      "468   2013-10-21\n",
      "Name: Date, dtype: datetime64[ns]\n"
     ]
    }
   ],
   "source": [
    "#change to date-time\n",
    "h2o['Date'] = pd.to_datetime(h2o['Date'])\n",
    "print(h2o['Date'].sort_values().head())\n",
    "print(h2o['Date'].sort_values().tail())"
   ]
  },
  {
   "cell_type": "code",
   "execution_count": 5,
   "metadata": {
    "collapsed": false,
    "scrolled": true
   },
   "outputs": [
    {
     "data": {
      "text/plain": [
       "Site                        object\n",
       "Date                datetime64[ns]\n",
       "EnteroCount                  int64\n",
       "FourDayRainTotal           float64\n",
       "SampleCount                  int64\n",
       "dtype: object"
      ]
     },
     "execution_count": 5,
     "metadata": {},
     "output_type": "execute_result"
    }
   ],
   "source": [
    "#remove < > from some of the counts\n",
    "h2o['EnteroCount'] = h2o['EnteroCount'].replace(\">|<\", \"\", regex=True)\n",
    "h2o['EnteroCount'] = pd.to_numeric(h2o['EnteroCount'], errors=\"raise\") \n",
    "h2o.dtypes"
   ]
  },
  {
   "cell_type": "code",
   "execution_count": 6,
   "metadata": {
    "collapsed": false
   },
   "outputs": [
    {
     "data": {
      "text/html": [
       "<div>\n",
       "<table border=\"1\" class=\"dataframe\">\n",
       "  <thead>\n",
       "    <tr style=\"text-align: right;\">\n",
       "      <th></th>\n",
       "      <th>Site</th>\n",
       "      <th>Date</th>\n",
       "      <th>EnteroCount</th>\n",
       "      <th>FourDayRainTotal</th>\n",
       "      <th>SampleCount</th>\n",
       "      <th>bad_result</th>\n",
       "      <th>good_result</th>\n",
       "    </tr>\n",
       "  </thead>\n",
       "  <tbody>\n",
       "    <tr>\n",
       "      <th>0</th>\n",
       "      <td>Hudson above Mohawk River</td>\n",
       "      <td>2011-10-16</td>\n",
       "      <td>1733</td>\n",
       "      <td>1.500</td>\n",
       "      <td>35</td>\n",
       "      <td>True</td>\n",
       "      <td>False</td>\n",
       "    </tr>\n",
       "    <tr>\n",
       "      <th>1</th>\n",
       "      <td>Hudson above Mohawk River</td>\n",
       "      <td>2013-10-21</td>\n",
       "      <td>4</td>\n",
       "      <td>0.200</td>\n",
       "      <td>35</td>\n",
       "      <td>False</td>\n",
       "      <td>True</td>\n",
       "    </tr>\n",
       "    <tr>\n",
       "      <th>2</th>\n",
       "      <td>Hudson above Mohawk River</td>\n",
       "      <td>2013-09-21</td>\n",
       "      <td>20</td>\n",
       "      <td>0.000</td>\n",
       "      <td>35</td>\n",
       "      <td>False</td>\n",
       "      <td>True</td>\n",
       "    </tr>\n",
       "    <tr>\n",
       "      <th>3</th>\n",
       "      <td>Hudson above Mohawk River</td>\n",
       "      <td>2013-08-19</td>\n",
       "      <td>6</td>\n",
       "      <td>0.000</td>\n",
       "      <td>35</td>\n",
       "      <td>False</td>\n",
       "      <td>True</td>\n",
       "    </tr>\n",
       "    <tr>\n",
       "      <th>4</th>\n",
       "      <td>Hudson above Mohawk River</td>\n",
       "      <td>2013-07-21</td>\n",
       "      <td>31</td>\n",
       "      <td>0.000</td>\n",
       "      <td>35</td>\n",
       "      <td>False</td>\n",
       "      <td>False</td>\n",
       "    </tr>\n",
       "  </tbody>\n",
       "</table>\n",
       "</div>"
      ],
      "text/plain": [
       "                        Site       Date  EnteroCount  FourDayRainTotal  \\\n",
       "0  Hudson above Mohawk River 2011-10-16         1733             1.500   \n",
       "1  Hudson above Mohawk River 2013-10-21            4             0.200   \n",
       "2  Hudson above Mohawk River 2013-09-21           20             0.000   \n",
       "3  Hudson above Mohawk River 2013-08-19            6             0.000   \n",
       "4  Hudson above Mohawk River 2013-07-21           31             0.000   \n",
       "\n",
       "   SampleCount bad_result good_result  \n",
       "0           35       True       False  \n",
       "1           35      False        True  \n",
       "2           35      False        True  \n",
       "3           35      False        True  \n",
       "4           35      False       False  "
      ]
     },
     "execution_count": 6,
     "metadata": {},
     "output_type": "execute_result"
    }
   ],
   "source": [
    "#add a column for good and bad samples\n",
    "h2o = h2o.assign(bad_result = lambda x: h2o.EnteroCount > 110,\n",
    "                 good_result = lambda x: h2o.EnteroCount <= 30)\n",
    "h2o.head()"
   ]
  },
  {
   "cell_type": "code",
   "execution_count": 7,
   "metadata": {
    "collapsed": false
   },
   "outputs": [
    {
     "data": {
      "text/html": [
       "<div>\n",
       "<table border=\"1\" class=\"dataframe\">\n",
       "  <thead>\n",
       "    <tr style=\"text-align: right;\">\n",
       "      <th></th>\n",
       "      <th>Site</th>\n",
       "      <th>EnteroCount</th>\n",
       "      <th>FourDayRainTotal</th>\n",
       "      <th>SampleCount</th>\n",
       "      <th>bad_result</th>\n",
       "      <th>good_result</th>\n",
       "      <th>n_tested</th>\n",
       "      <th>site_max</th>\n",
       "      <th>site_min</th>\n",
       "    </tr>\n",
       "  </thead>\n",
       "  <tbody>\n",
       "    <tr>\n",
       "      <th>0</th>\n",
       "      <td>125th St. Pier</td>\n",
       "      <td>11860</td>\n",
       "      <td>50.900</td>\n",
       "      <td>4356</td>\n",
       "      <td>21.000</td>\n",
       "      <td>28.000</td>\n",
       "      <td>66</td>\n",
       "      <td>1500</td>\n",
       "      <td>8</td>\n",
       "    </tr>\n",
       "    <tr>\n",
       "      <th>1</th>\n",
       "      <td>79th St. mid-channel</td>\n",
       "      <td>2313</td>\n",
       "      <td>42.200</td>\n",
       "      <td>2401</td>\n",
       "      <td>4.000</td>\n",
       "      <td>39.000</td>\n",
       "      <td>49</td>\n",
       "      <td>1032</td>\n",
       "      <td>1</td>\n",
       "    </tr>\n",
       "    <tr>\n",
       "      <th>2</th>\n",
       "      <td>Albany Rowing Dock</td>\n",
       "      <td>10114</td>\n",
       "      <td>22.700</td>\n",
       "      <td>1296</td>\n",
       "      <td>10.000</td>\n",
       "      <td>11.000</td>\n",
       "      <td>36</td>\n",
       "      <td>2420</td>\n",
       "      <td>3</td>\n",
       "    </tr>\n",
       "    <tr>\n",
       "      <th>3</th>\n",
       "      <td>Annesville Creek</td>\n",
       "      <td>3170</td>\n",
       "      <td>18.400</td>\n",
       "      <td>1444</td>\n",
       "      <td>5.000</td>\n",
       "      <td>29.000</td>\n",
       "      <td>38</td>\n",
       "      <td>958</td>\n",
       "      <td>5</td>\n",
       "    </tr>\n",
       "    <tr>\n",
       "      <th>4</th>\n",
       "      <td>Athens</td>\n",
       "      <td>7046</td>\n",
       "      <td>20.900</td>\n",
       "      <td>1225</td>\n",
       "      <td>5.000</td>\n",
       "      <td>19.000</td>\n",
       "      <td>35</td>\n",
       "      <td>2420</td>\n",
       "      <td>5</td>\n",
       "    </tr>\n",
       "  </tbody>\n",
       "</table>\n",
       "</div>"
      ],
      "text/plain": [
       "                   Site  EnteroCount  FourDayRainTotal  SampleCount  \\\n",
       "0        125th St. Pier        11860            50.900         4356   \n",
       "1  79th St. mid-channel         2313            42.200         2401   \n",
       "2    Albany Rowing Dock        10114            22.700         1296   \n",
       "3      Annesville Creek         3170            18.400         1444   \n",
       "4                Athens         7046            20.900         1225   \n",
       "\n",
       "   bad_result  good_result  n_tested  site_max  site_min  \n",
       "0      21.000       28.000        66      1500         8  \n",
       "1       4.000       39.000        49      1032         1  \n",
       "2      10.000       11.000        36      2420         3  \n",
       "3       5.000       29.000        38       958         5  \n",
       "4       5.000       19.000        35      2420         5  "
      ]
     },
     "execution_count": 7,
     "metadata": {},
     "output_type": "execute_result"
    }
   ],
   "source": [
    "#group the data to create a new data frame\n",
    "h2o_group = h2o.groupby('Site')\n",
    "h2o_summary = pd.DataFrame(h2o_group.sum())\n",
    "h2o_summary = h2o_summary.assign(n_tested = h2o_group['EnteroCount'].size(),\n",
    "                                 site_max = h2o_group['EnteroCount'].max(),\n",
    "                                 site_min = h2o_group['EnteroCount'].min()).reset_index()\n",
    "h2o_summary.head()"
   ]
  },
  {
   "cell_type": "code",
   "execution_count": 8,
   "metadata": {
    "collapsed": false
   },
   "outputs": [
    {
     "data": {
      "text/html": [
       "<div>\n",
       "<table border=\"1\" class=\"dataframe\">\n",
       "  <thead>\n",
       "    <tr style=\"text-align: right;\">\n",
       "      <th></th>\n",
       "      <th>Site</th>\n",
       "      <th>EnteroCount</th>\n",
       "      <th>FourDayRainTotal</th>\n",
       "      <th>SampleCount</th>\n",
       "      <th>bad_result</th>\n",
       "      <th>good_result</th>\n",
       "      <th>n_tested</th>\n",
       "      <th>site_max</th>\n",
       "      <th>site_min</th>\n",
       "      <th>g_mean</th>\n",
       "    </tr>\n",
       "  </thead>\n",
       "  <tbody>\n",
       "    <tr>\n",
       "      <th>0</th>\n",
       "      <td>125th St. Pier</td>\n",
       "      <td>11860</td>\n",
       "      <td>50.900</td>\n",
       "      <td>4356</td>\n",
       "      <td>21.000</td>\n",
       "      <td>28.000</td>\n",
       "      <td>66</td>\n",
       "      <td>1500</td>\n",
       "      <td>8</td>\n",
       "      <td>56.162</td>\n",
       "    </tr>\n",
       "    <tr>\n",
       "      <th>1</th>\n",
       "      <td>79th St. mid-channel</td>\n",
       "      <td>2313</td>\n",
       "      <td>42.200</td>\n",
       "      <td>2401</td>\n",
       "      <td>4.000</td>\n",
       "      <td>39.000</td>\n",
       "      <td>49</td>\n",
       "      <td>1032</td>\n",
       "      <td>1</td>\n",
       "      <td>17.490</td>\n",
       "    </tr>\n",
       "    <tr>\n",
       "      <th>2</th>\n",
       "      <td>Albany Rowing Dock</td>\n",
       "      <td>10114</td>\n",
       "      <td>22.700</td>\n",
       "      <td>1296</td>\n",
       "      <td>10.000</td>\n",
       "      <td>11.000</td>\n",
       "      <td>36</td>\n",
       "      <td>2420</td>\n",
       "      <td>3</td>\n",
       "      <td>70.950</td>\n",
       "    </tr>\n",
       "    <tr>\n",
       "      <th>3</th>\n",
       "      <td>Annesville Creek</td>\n",
       "      <td>3170</td>\n",
       "      <td>18.400</td>\n",
       "      <td>1444</td>\n",
       "      <td>5.000</td>\n",
       "      <td>29.000</td>\n",
       "      <td>38</td>\n",
       "      <td>958</td>\n",
       "      <td>5</td>\n",
       "      <td>23.171</td>\n",
       "    </tr>\n",
       "    <tr>\n",
       "      <th>4</th>\n",
       "      <td>Athens</td>\n",
       "      <td>7046</td>\n",
       "      <td>20.900</td>\n",
       "      <td>1225</td>\n",
       "      <td>5.000</td>\n",
       "      <td>19.000</td>\n",
       "      <td>35</td>\n",
       "      <td>2420</td>\n",
       "      <td>5</td>\n",
       "      <td>41.779</td>\n",
       "    </tr>\n",
       "  </tbody>\n",
       "</table>\n",
       "</div>"
      ],
      "text/plain": [
       "                   Site  EnteroCount  FourDayRainTotal  SampleCount  \\\n",
       "0        125th St. Pier        11860            50.900         4356   \n",
       "1  79th St. mid-channel         2313            42.200         2401   \n",
       "2    Albany Rowing Dock        10114            22.700         1296   \n",
       "3      Annesville Creek         3170            18.400         1444   \n",
       "4                Athens         7046            20.900         1225   \n",
       "\n",
       "   bad_result  good_result  n_tested  site_max  site_min  g_mean  \n",
       "0      21.000       28.000        66      1500         8  56.162  \n",
       "1       4.000       39.000        49      1032         1  17.490  \n",
       "2      10.000       11.000        36      2420         3  70.950  \n",
       "3       5.000       29.000        38       958         5  23.171  \n",
       "4       5.000       19.000        35      2420         5  41.779  "
      ]
     },
     "execution_count": 8,
     "metadata": {},
     "output_type": "execute_result"
    }
   ],
   "source": [
    "#find the product of the EnteroCount for each site\n",
    "h2o_x = h2o.assign(g_mean = lambda x: h2o.EnteroCount + 1)\n",
    "x = pd.DataFrame(h2o_x.groupby('Site')['g_mean'].apply(gmean)).reset_index()\n",
    "h2o_summary = pd.merge(h2o_summary, x, on='Site')\n",
    "h2o_summary.head()"
   ]
  },
  {
   "cell_type": "code",
   "execution_count": 9,
   "metadata": {
    "collapsed": false
   },
   "outputs": [
    {
     "data": {
      "text/html": [
       "<div>\n",
       "<table border=\"1\" class=\"dataframe\">\n",
       "  <thead>\n",
       "    <tr style=\"text-align: right;\">\n",
       "      <th></th>\n",
       "      <th>Site</th>\n",
       "      <th>EnteroCount</th>\n",
       "      <th>FourDayRainTotal</th>\n",
       "      <th>SampleCount</th>\n",
       "      <th>bad_result</th>\n",
       "      <th>good_result</th>\n",
       "      <th>n_tested</th>\n",
       "      <th>site_max</th>\n",
       "      <th>site_min</th>\n",
       "      <th>g_mean</th>\n",
       "      <th>bad_rate</th>\n",
       "      <th>good_rate</th>\n",
       "      <th>ok_rate</th>\n",
       "    </tr>\n",
       "  </thead>\n",
       "  <tbody>\n",
       "    <tr>\n",
       "      <th>0</th>\n",
       "      <td>125th St. Pier</td>\n",
       "      <td>11860</td>\n",
       "      <td>50.900</td>\n",
       "      <td>4356</td>\n",
       "      <td>21.000</td>\n",
       "      <td>28.000</td>\n",
       "      <td>66</td>\n",
       "      <td>1500</td>\n",
       "      <td>8</td>\n",
       "      <td>56.162</td>\n",
       "      <td>0.318</td>\n",
       "      <td>0.424</td>\n",
       "      <td>0.258</td>\n",
       "    </tr>\n",
       "    <tr>\n",
       "      <th>1</th>\n",
       "      <td>79th St. mid-channel</td>\n",
       "      <td>2313</td>\n",
       "      <td>42.200</td>\n",
       "      <td>2401</td>\n",
       "      <td>4.000</td>\n",
       "      <td>39.000</td>\n",
       "      <td>49</td>\n",
       "      <td>1032</td>\n",
       "      <td>1</td>\n",
       "      <td>17.490</td>\n",
       "      <td>0.082</td>\n",
       "      <td>0.796</td>\n",
       "      <td>0.122</td>\n",
       "    </tr>\n",
       "    <tr>\n",
       "      <th>2</th>\n",
       "      <td>Albany Rowing Dock</td>\n",
       "      <td>10114</td>\n",
       "      <td>22.700</td>\n",
       "      <td>1296</td>\n",
       "      <td>10.000</td>\n",
       "      <td>11.000</td>\n",
       "      <td>36</td>\n",
       "      <td>2420</td>\n",
       "      <td>3</td>\n",
       "      <td>70.950</td>\n",
       "      <td>0.278</td>\n",
       "      <td>0.306</td>\n",
       "      <td>0.417</td>\n",
       "    </tr>\n",
       "    <tr>\n",
       "      <th>3</th>\n",
       "      <td>Annesville Creek</td>\n",
       "      <td>3170</td>\n",
       "      <td>18.400</td>\n",
       "      <td>1444</td>\n",
       "      <td>5.000</td>\n",
       "      <td>29.000</td>\n",
       "      <td>38</td>\n",
       "      <td>958</td>\n",
       "      <td>5</td>\n",
       "      <td>23.171</td>\n",
       "      <td>0.132</td>\n",
       "      <td>0.763</td>\n",
       "      <td>0.105</td>\n",
       "    </tr>\n",
       "    <tr>\n",
       "      <th>4</th>\n",
       "      <td>Athens</td>\n",
       "      <td>7046</td>\n",
       "      <td>20.900</td>\n",
       "      <td>1225</td>\n",
       "      <td>5.000</td>\n",
       "      <td>19.000</td>\n",
       "      <td>35</td>\n",
       "      <td>2420</td>\n",
       "      <td>5</td>\n",
       "      <td>41.779</td>\n",
       "      <td>0.143</td>\n",
       "      <td>0.543</td>\n",
       "      <td>0.314</td>\n",
       "    </tr>\n",
       "  </tbody>\n",
       "</table>\n",
       "</div>"
      ],
      "text/plain": [
       "                   Site  EnteroCount  FourDayRainTotal  SampleCount  \\\n",
       "0        125th St. Pier        11860            50.900         4356   \n",
       "1  79th St. mid-channel         2313            42.200         2401   \n",
       "2    Albany Rowing Dock        10114            22.700         1296   \n",
       "3      Annesville Creek         3170            18.400         1444   \n",
       "4                Athens         7046            20.900         1225   \n",
       "\n",
       "   bad_result  good_result  n_tested  site_max  site_min  g_mean  bad_rate  \\\n",
       "0      21.000       28.000        66      1500         8  56.162     0.318   \n",
       "1       4.000       39.000        49      1032         1  17.490     0.082   \n",
       "2      10.000       11.000        36      2420         3  70.950     0.278   \n",
       "3       5.000       29.000        38       958         5  23.171     0.132   \n",
       "4       5.000       19.000        35      2420         5  41.779     0.143   \n",
       "\n",
       "   good_rate  ok_rate  \n",
       "0      0.424    0.258  \n",
       "1      0.796    0.122  \n",
       "2      0.306    0.417  \n",
       "3      0.763    0.105  \n",
       "4      0.543    0.314  "
      ]
     },
     "execution_count": 9,
     "metadata": {},
     "output_type": "execute_result"
    }
   ],
   "source": [
    "#new columns for geometric mean, good/ok/bad sample rates\n",
    "h2o_summary = h2o_summary.assign(good_rate = h2o_summary.good_result/h2o_summary.n_tested,\n",
    "                                 bad_rate = h2o_summary.bad_result/h2o_summary.n_tested)\n",
    "h2o_summary = h2o_summary.assign(ok_rate = 1 - h2o_summary.good_rate - h2o_summary.bad_rate)\n",
    "h2o_summary.head()"
   ]
  },
  {
   "cell_type": "code",
   "execution_count": 10,
   "metadata": {
    "collapsed": false
   },
   "outputs": [
    {
     "data": {
      "text/html": [
       "<div>\n",
       "<table border=\"1\" class=\"dataframe\">\n",
       "  <thead>\n",
       "    <tr style=\"text-align: right;\">\n",
       "      <th></th>\n",
       "      <th>Site</th>\n",
       "      <th>g_mean</th>\n",
       "      <th>good_rate</th>\n",
       "    </tr>\n",
       "  </thead>\n",
       "  <tbody>\n",
       "    <tr>\n",
       "      <th>0</th>\n",
       "      <td>Norrie Point mid-channel</td>\n",
       "      <td>5.649</td>\n",
       "      <td>0.917</td>\n",
       "    </tr>\n",
       "    <tr>\n",
       "      <th>1</th>\n",
       "      <td>Poughkeepsie Drinking Water Intake</td>\n",
       "      <td>5.877</td>\n",
       "      <td>0.974</td>\n",
       "    </tr>\n",
       "    <tr>\n",
       "      <th>2</th>\n",
       "      <td>Port Ewen Drinking Water Intake</td>\n",
       "      <td>7.237</td>\n",
       "      <td>0.892</td>\n",
       "    </tr>\n",
       "    <tr>\n",
       "      <th>3</th>\n",
       "      <td>Tivoli Landing</td>\n",
       "      <td>9.109</td>\n",
       "      <td>0.838</td>\n",
       "    </tr>\n",
       "    <tr>\n",
       "      <th>4</th>\n",
       "      <td>Little Stony Point</td>\n",
       "      <td>9.739</td>\n",
       "      <td>0.895</td>\n",
       "    </tr>\n",
       "    <tr>\n",
       "      <th>5</th>\n",
       "      <td>Ulster Landing Beach</td>\n",
       "      <td>11.263</td>\n",
       "      <td>0.833</td>\n",
       "    </tr>\n",
       "    <tr>\n",
       "      <th>6</th>\n",
       "      <td>West Point STP Outfall</td>\n",
       "      <td>11.310</td>\n",
       "      <td>0.833</td>\n",
       "    </tr>\n",
       "    <tr>\n",
       "      <th>7</th>\n",
       "      <td>TZ Bridge mid-channel</td>\n",
       "      <td>11.509</td>\n",
       "      <td>0.912</td>\n",
       "    </tr>\n",
       "    <tr>\n",
       "      <th>8</th>\n",
       "      <td>Marlboro Landing</td>\n",
       "      <td>11.608</td>\n",
       "      <td>0.829</td>\n",
       "    </tr>\n",
       "    <tr>\n",
       "      <th>9</th>\n",
       "      <td>Kingston Point Beach</td>\n",
       "      <td>11.814</td>\n",
       "      <td>0.767</td>\n",
       "    </tr>\n",
       "  </tbody>\n",
       "</table>\n",
       "</div>"
      ],
      "text/plain": [
       "                                 Site  g_mean  good_rate\n",
       "0            Norrie Point mid-channel   5.649      0.917\n",
       "1  Poughkeepsie Drinking Water Intake   5.877      0.974\n",
       "2     Port Ewen Drinking Water Intake   7.237      0.892\n",
       "3                      Tivoli Landing   9.109      0.838\n",
       "4                  Little Stony Point   9.739      0.895\n",
       "5                Ulster Landing Beach  11.263      0.833\n",
       "6              West Point STP Outfall  11.310      0.833\n",
       "7               TZ Bridge mid-channel  11.509      0.912\n",
       "8                    Marlboro Landing  11.608      0.829\n",
       "9                Kingston Point Beach  11.814      0.767"
      ]
     },
     "execution_count": 10,
     "metadata": {},
     "output_type": "execute_result"
    }
   ],
   "source": [
    "#top 10 best places to swim\n",
    "best = h2o_summary.sort_values('g_mean').head(10).reset_index()\n",
    "best.loc[:,['Site','g_mean','good_rate']]"
   ]
  },
  {
   "cell_type": "code",
   "execution_count": 11,
   "metadata": {
    "collapsed": false
   },
   "outputs": [
    {
     "data": {
      "text/html": [
       "<div>\n",
       "<table border=\"1\" class=\"dataframe\">\n",
       "  <thead>\n",
       "    <tr style=\"text-align: right;\">\n",
       "      <th></th>\n",
       "      <th>Site</th>\n",
       "      <th>g_mean</th>\n",
       "      <th>bad_rate</th>\n",
       "    </tr>\n",
       "  </thead>\n",
       "  <tbody>\n",
       "    <tr>\n",
       "      <th>0</th>\n",
       "      <td>Upper Sparkill Creek</td>\n",
       "      <td>391.959</td>\n",
       "      <td>0.794</td>\n",
       "    </tr>\n",
       "    <tr>\n",
       "      <th>1</th>\n",
       "      <td>Gowanus Canal</td>\n",
       "      <td>187.808</td>\n",
       "      <td>0.459</td>\n",
       "    </tr>\n",
       "    <tr>\n",
       "      <th>2</th>\n",
       "      <td>Mohawk River at Waterford</td>\n",
       "      <td>173.834</td>\n",
       "      <td>0.571</td>\n",
       "    </tr>\n",
       "    <tr>\n",
       "      <th>3</th>\n",
       "      <td>Newtown Creek- Metropolitan Ave. Bridge</td>\n",
       "      <td>153.318</td>\n",
       "      <td>0.491</td>\n",
       "    </tr>\n",
       "    <tr>\n",
       "      <th>4</th>\n",
       "      <td>Saw Mill River</td>\n",
       "      <td>118.737</td>\n",
       "      <td>0.440</td>\n",
       "    </tr>\n",
       "    <tr>\n",
       "      <th>5</th>\n",
       "      <td>Piermont Pier</td>\n",
       "      <td>110.256</td>\n",
       "      <td>0.492</td>\n",
       "    </tr>\n",
       "    <tr>\n",
       "      <th>6</th>\n",
       "      <td>Hudson River above Troy Lock</td>\n",
       "      <td>107.786</td>\n",
       "      <td>0.351</td>\n",
       "    </tr>\n",
       "    <tr>\n",
       "      <th>7</th>\n",
       "      <td>Newburgh Launch Ramp</td>\n",
       "      <td>107.682</td>\n",
       "      <td>0.526</td>\n",
       "    </tr>\n",
       "    <tr>\n",
       "      <th>8</th>\n",
       "      <td>Kingston STP Outfall</td>\n",
       "      <td>105.750</td>\n",
       "      <td>0.350</td>\n",
       "    </tr>\n",
       "    <tr>\n",
       "      <th>9</th>\n",
       "      <td>Dunn Memorial Bridge- Albany</td>\n",
       "      <td>100.649</td>\n",
       "      <td>0.395</td>\n",
       "    </tr>\n",
       "  </tbody>\n",
       "</table>\n",
       "</div>"
      ],
      "text/plain": [
       "                                      Site  g_mean  bad_rate\n",
       "0                     Upper Sparkill Creek 391.959     0.794\n",
       "1                            Gowanus Canal 187.808     0.459\n",
       "2                Mohawk River at Waterford 173.834     0.571\n",
       "3  Newtown Creek- Metropolitan Ave. Bridge 153.318     0.491\n",
       "4                           Saw Mill River 118.737     0.440\n",
       "5                            Piermont Pier 110.256     0.492\n",
       "6             Hudson River above Troy Lock 107.786     0.351\n",
       "7                     Newburgh Launch Ramp 107.682     0.526\n",
       "8                     Kingston STP Outfall 105.750     0.350\n",
       "9             Dunn Memorial Bridge- Albany 100.649     0.395"
      ]
     },
     "execution_count": 11,
     "metadata": {},
     "output_type": "execute_result"
    }
   ],
   "source": [
    "#worst 10 places to swim\n",
    "worst = h2o_summary.sort_values('g_mean', ascending=False).head(10).reset_index()\n",
    "worst.loc[:,['Site','g_mean','bad_rate']]"
   ]
  },
  {
   "cell_type": "code",
   "execution_count": 33,
   "metadata": {
    "collapsed": false
   },
   "outputs": [
    {
     "name": "stderr",
     "output_type": "stream",
     "text": [
      "/Library/Frameworks/Python.framework/Versions/3.5/lib/python3.5/site-packages/matplotlib/__init__.py:872: UserWarning: axes.color_cycle is deprecated and replaced with axes.prop_cycle; please use the latter.\n",
      "  warnings.warn(self.msg_depr % (key, alt_key))\n"
     ]
    },
    {
     "data": {
      "text/plain": [
       "<ggplot: (-9223372036579584824)>"
      ]
     },
     "execution_count": 33,
     "metadata": {},
     "output_type": "execute_result"
    }
   ],
   "source": [
    "p = ggplot(best, aes(x='Site', y='g_mean'))\n",
    "p = p + geom_bar(stat='identity')\n",
    "p = p + ggtitle('Best Spots to Take a Dip')\n",
    "p"
   ]
  },
  {
   "cell_type": "code",
   "execution_count": 34,
   "metadata": {
    "collapsed": false
   },
   "outputs": [
    {
     "name": "stderr",
     "output_type": "stream",
     "text": [
      "/Library/Frameworks/Python.framework/Versions/3.5/lib/python3.5/site-packages/matplotlib/__init__.py:872: UserWarning: axes.color_cycle is deprecated and replaced with axes.prop_cycle; please use the latter.\n",
      "  warnings.warn(self.msg_depr % (key, alt_key))\n"
     ]
    },
    {
     "data": {
      "text/plain": [
       "<ggplot: (273092693)>"
      ]
     },
     "execution_count": 34,
     "metadata": {},
     "output_type": "execute_result"
    }
   ],
   "source": [
    "p = ggplot(worst, aes(x='Site', y='g_mean'))\n",
    "p = p + geom_bar(stat='identity')\n",
    "p = p + ggtitle('Worst Spots to Take a Dip')\n",
    "p"
   ]
  },
  {
   "cell_type": "code",
   "execution_count": 13,
   "metadata": {
    "collapsed": false
   },
   "outputs": [
    {
     "data": {
      "text/html": [
       "<div>\n",
       "<table border=\"1\" class=\"dataframe\">\n",
       "  <thead>\n",
       "    <tr style=\"text-align: right;\">\n",
       "      <th></th>\n",
       "      <th>Site</th>\n",
       "      <th>n_tested</th>\n",
       "    </tr>\n",
       "  </thead>\n",
       "  <tbody>\n",
       "    <tr>\n",
       "      <th>0</th>\n",
       "      <td>Piermont Pier</td>\n",
       "      <td>187</td>\n",
       "    </tr>\n",
       "    <tr>\n",
       "      <th>1</th>\n",
       "      <td>Upper Sparkill Creek</td>\n",
       "      <td>165</td>\n",
       "    </tr>\n",
       "    <tr>\n",
       "      <th>2</th>\n",
       "      <td>125th St. Pier</td>\n",
       "      <td>66</td>\n",
       "    </tr>\n",
       "    <tr>\n",
       "      <th>3</th>\n",
       "      <td>Nyack Launch Ramp</td>\n",
       "      <td>61</td>\n",
       "    </tr>\n",
       "    <tr>\n",
       "      <th>4</th>\n",
       "      <td>Newtown Creek- Dutch Kills</td>\n",
       "      <td>57</td>\n",
       "    </tr>\n",
       "    <tr>\n",
       "      <th>5</th>\n",
       "      <td>TZ Bridge mid-channel</td>\n",
       "      <td>57</td>\n",
       "    </tr>\n",
       "    <tr>\n",
       "      <th>6</th>\n",
       "      <td>Orangetown STP Outfall</td>\n",
       "      <td>57</td>\n",
       "    </tr>\n",
       "    <tr>\n",
       "      <th>7</th>\n",
       "      <td>Newtown Creek- Metropolitan Ave. Bridge</td>\n",
       "      <td>57</td>\n",
       "    </tr>\n",
       "    <tr>\n",
       "      <th>8</th>\n",
       "      <td>Yonkers mid-channel</td>\n",
       "      <td>52</td>\n",
       "    </tr>\n",
       "    <tr>\n",
       "      <th>9</th>\n",
       "      <td>Yonkers STP Outfall</td>\n",
       "      <td>51</td>\n",
       "    </tr>\n",
       "  </tbody>\n",
       "</table>\n",
       "</div>"
      ],
      "text/plain": [
       "                                      Site  n_tested\n",
       "0                            Piermont Pier       187\n",
       "1                     Upper Sparkill Creek       165\n",
       "2                           125th St. Pier        66\n",
       "3                        Nyack Launch Ramp        61\n",
       "4               Newtown Creek- Dutch Kills        57\n",
       "5                    TZ Bridge mid-channel        57\n",
       "6                   Orangetown STP Outfall        57\n",
       "7  Newtown Creek- Metropolitan Ave. Bridge        57\n",
       "8                      Yonkers mid-channel        52\n",
       "9                      Yonkers STP Outfall        51"
      ]
     },
     "execution_count": 13,
     "metadata": {},
     "output_type": "execute_result"
    }
   ],
   "source": [
    "#most tested\n",
    "most = h2o_summary.sort_values('n_tested', ascending=False).head(10).reset_index()\n",
    "most.loc[:,['Site','n_tested']]"
   ]
  },
  {
   "cell_type": "code",
   "execution_count": 14,
   "metadata": {
    "collapsed": false
   },
   "outputs": [
    {
     "data": {
      "text/html": [
       "<div>\n",
       "<table border=\"1\" class=\"dataframe\">\n",
       "  <thead>\n",
       "    <tr style=\"text-align: right;\">\n",
       "      <th></th>\n",
       "      <th>Site</th>\n",
       "      <th>Date</th>\n",
       "      <th>EnteroCount</th>\n",
       "      <th>FourDayRainTotal</th>\n",
       "      <th>SampleCount</th>\n",
       "      <th>bad_result</th>\n",
       "      <th>good_result</th>\n",
       "      <th>gap</th>\n",
       "      <th>gaps_csum</th>\n",
       "    </tr>\n",
       "  </thead>\n",
       "  <tbody>\n",
       "    <tr>\n",
       "      <th>64</th>\n",
       "      <td>125th St. Pier</td>\n",
       "      <td>2013-09-18</td>\n",
       "      <td>41</td>\n",
       "      <td>0.000</td>\n",
       "      <td>66</td>\n",
       "      <td>False</td>\n",
       "      <td>False</td>\n",
       "      <td>35.000</td>\n",
       "      <td>2543.000</td>\n",
       "    </tr>\n",
       "    <tr>\n",
       "      <th>65</th>\n",
       "      <td>125th St. Pier</td>\n",
       "      <td>2013-10-16</td>\n",
       "      <td>201</td>\n",
       "      <td>0.000</td>\n",
       "      <td>66</td>\n",
       "      <td>True</td>\n",
       "      <td>False</td>\n",
       "      <td>28.000</td>\n",
       "      <td>2571.000</td>\n",
       "    </tr>\n",
       "    <tr>\n",
       "      <th>66</th>\n",
       "      <td>79th St. mid-channel</td>\n",
       "      <td>2006-09-26</td>\n",
       "      <td>10</td>\n",
       "      <td>0.100</td>\n",
       "      <td>49</td>\n",
       "      <td>False</td>\n",
       "      <td>True</td>\n",
       "      <td>0.000</td>\n",
       "      <td>0.000</td>\n",
       "    </tr>\n",
       "    <tr>\n",
       "      <th>67</th>\n",
       "      <td>79th St. mid-channel</td>\n",
       "      <td>2006-10-18</td>\n",
       "      <td>30</td>\n",
       "      <td>1.100</td>\n",
       "      <td>49</td>\n",
       "      <td>False</td>\n",
       "      <td>True</td>\n",
       "      <td>22.000</td>\n",
       "      <td>22.000</td>\n",
       "    </tr>\n",
       "    <tr>\n",
       "      <th>68</th>\n",
       "      <td>79th St. mid-channel</td>\n",
       "      <td>2006-11-10</td>\n",
       "      <td>143</td>\n",
       "      <td>3.600</td>\n",
       "      <td>49</td>\n",
       "      <td>True</td>\n",
       "      <td>False</td>\n",
       "      <td>23.000</td>\n",
       "      <td>45.000</td>\n",
       "    </tr>\n",
       "  </tbody>\n",
       "</table>\n",
       "</div>"
      ],
      "text/plain": [
       "                    Site       Date  EnteroCount  FourDayRainTotal  \\\n",
       "64        125th St. Pier 2013-09-18           41             0.000   \n",
       "65        125th St. Pier 2013-10-16          201             0.000   \n",
       "66  79th St. mid-channel 2006-09-26           10             0.100   \n",
       "67  79th St. mid-channel 2006-10-18           30             1.100   \n",
       "68  79th St. mid-channel 2006-11-10          143             3.600   \n",
       "\n",
       "    SampleCount bad_result good_result    gap  gaps_csum  \n",
       "64           66      False       False 35.000   2543.000  \n",
       "65           66       True       False 28.000   2571.000  \n",
       "66           49      False        True  0.000      0.000  \n",
       "67           49      False        True 22.000     22.000  \n",
       "68           49       True       False 23.000     45.000  "
      ]
     },
     "execution_count": 14,
     "metadata": {},
     "output_type": "execute_result"
    }
   ],
   "source": [
    "#find gaps\n",
    "gaps = h2o.sort_values(['Site','Date']).reset_index(drop=True)\n",
    "#find the gap between each date\n",
    "#dividing by np.timedelta yields numeric results \n",
    "gaps = gaps.assign(gap = lambda x: (gaps['Date'] - gaps['Date'].shift())/np.timedelta64(1, 'D'))\n",
    "#but if the site changes the gap resets\n",
    "gaps['gap'] = np.where(gaps['Site'] != gaps['Site'].shift(), 0, gaps['gap'])\n",
    "gaps['gaps_csum'] = gaps.groupby('Site')['gap'].cumsum()\n",
    "gaps.loc[64:68,]"
   ]
  },
  {
   "cell_type": "code",
   "execution_count": 15,
   "metadata": {
    "collapsed": false
   },
   "outputs": [
    {
     "data": {
      "text/html": [
       "<div>\n",
       "<table border=\"1\" class=\"dataframe\">\n",
       "  <thead>\n",
       "    <tr style=\"text-align: right;\">\n",
       "      <th></th>\n",
       "      <th>Site</th>\n",
       "      <th>gap</th>\n",
       "      <th>Date</th>\n",
       "    </tr>\n",
       "  </thead>\n",
       "  <tbody>\n",
       "    <tr>\n",
       "      <th>0</th>\n",
       "      <td>Tarrytown Marina</td>\n",
       "      <td>334</td>\n",
       "      <td>2010-07-22</td>\n",
       "    </tr>\n",
       "    <tr>\n",
       "      <th>1</th>\n",
       "      <td>Tarrytown Marina</td>\n",
       "      <td>329</td>\n",
       "      <td>2009-08-22</td>\n",
       "    </tr>\n",
       "    <tr>\n",
       "      <th>2</th>\n",
       "      <td>125th St. Pier</td>\n",
       "      <td>291</td>\n",
       "      <td>2008-05-19</td>\n",
       "    </tr>\n",
       "    <tr>\n",
       "      <th>3</th>\n",
       "      <td>Gowanus Canal</td>\n",
       "      <td>281</td>\n",
       "      <td>2010-06-10</td>\n",
       "    </tr>\n",
       "    <tr>\n",
       "      <th>4</th>\n",
       "      <td>Upper Sparkill Creek</td>\n",
       "      <td>280</td>\n",
       "      <td>2008-05-12</td>\n",
       "    </tr>\n",
       "    <tr>\n",
       "      <th>5</th>\n",
       "      <td>Newtown Creek- Metropolitan Ave. Bridge</td>\n",
       "      <td>256</td>\n",
       "      <td>2008-05-19</td>\n",
       "    </tr>\n",
       "    <tr>\n",
       "      <th>6</th>\n",
       "      <td>East River mid-channel at Roosevelt Is.</td>\n",
       "      <td>256</td>\n",
       "      <td>2008-05-19</td>\n",
       "    </tr>\n",
       "    <tr>\n",
       "      <th>7</th>\n",
       "      <td>Yonkers mid-channel</td>\n",
       "      <td>256</td>\n",
       "      <td>2008-05-19</td>\n",
       "    </tr>\n",
       "    <tr>\n",
       "      <th>8</th>\n",
       "      <td>The Battery mid-channel</td>\n",
       "      <td>256</td>\n",
       "      <td>2008-05-19</td>\n",
       "    </tr>\n",
       "    <tr>\n",
       "      <th>9</th>\n",
       "      <td>Newtown Creek- Dutch Kills</td>\n",
       "      <td>256</td>\n",
       "      <td>2008-05-19</td>\n",
       "    </tr>\n",
       "    <tr>\n",
       "      <th>10</th>\n",
       "      <td>Harlem River- Washington Bridge</td>\n",
       "      <td>256</td>\n",
       "      <td>2008-05-19</td>\n",
       "    </tr>\n",
       "    <tr>\n",
       "      <th>11</th>\n",
       "      <td>GW Bridge mid-channel</td>\n",
       "      <td>256</td>\n",
       "      <td>2008-05-19</td>\n",
       "    </tr>\n",
       "    <tr>\n",
       "      <th>12</th>\n",
       "      <td>North River STP at 145th</td>\n",
       "      <td>256</td>\n",
       "      <td>2008-05-19</td>\n",
       "    </tr>\n",
       "    <tr>\n",
       "      <th>13</th>\n",
       "      <td>Yonkers STP Outfall</td>\n",
       "      <td>256</td>\n",
       "      <td>2008-05-19</td>\n",
       "    </tr>\n",
       "    <tr>\n",
       "      <th>14</th>\n",
       "      <td>79th St. mid-channel</td>\n",
       "      <td>256</td>\n",
       "      <td>2008-05-19</td>\n",
       "    </tr>\n",
       "    <tr>\n",
       "      <th>15</th>\n",
       "      <td>Saw Mill River</td>\n",
       "      <td>256</td>\n",
       "      <td>2008-05-19</td>\n",
       "    </tr>\n",
       "    <tr>\n",
       "      <th>16</th>\n",
       "      <td>East River mid-channel at 23rd St.</td>\n",
       "      <td>256</td>\n",
       "      <td>2008-05-19</td>\n",
       "    </tr>\n",
       "    <tr>\n",
       "      <th>17</th>\n",
       "      <td>Harlem River- Willis Ave. Bridge</td>\n",
       "      <td>256</td>\n",
       "      <td>2008-05-19</td>\n",
       "    </tr>\n",
       "    <tr>\n",
       "      <th>18</th>\n",
       "      <td>Cedar Pond Brook</td>\n",
       "      <td>254</td>\n",
       "      <td>2008-05-20</td>\n",
       "    </tr>\n",
       "    <tr>\n",
       "      <th>19</th>\n",
       "      <td>Croton Point Beach</td>\n",
       "      <td>254</td>\n",
       "      <td>2008-05-20</td>\n",
       "    </tr>\n",
       "  </tbody>\n",
       "</table>\n",
       "</div>"
      ],
      "text/plain": [
       "                                       Site  gap       Date\n",
       "0                          Tarrytown Marina  334 2010-07-22\n",
       "1                          Tarrytown Marina  329 2009-08-22\n",
       "2                            125th St. Pier  291 2008-05-19\n",
       "3                             Gowanus Canal  281 2010-06-10\n",
       "4                      Upper Sparkill Creek  280 2008-05-12\n",
       "5   Newtown Creek- Metropolitan Ave. Bridge  256 2008-05-19\n",
       "6   East River mid-channel at Roosevelt Is.  256 2008-05-19\n",
       "7                       Yonkers mid-channel  256 2008-05-19\n",
       "8                   The Battery mid-channel  256 2008-05-19\n",
       "9                Newtown Creek- Dutch Kills  256 2008-05-19\n",
       "10          Harlem River- Washington Bridge  256 2008-05-19\n",
       "11                    GW Bridge mid-channel  256 2008-05-19\n",
       "12                 North River STP at 145th  256 2008-05-19\n",
       "13                      Yonkers STP Outfall  256 2008-05-19\n",
       "14                     79th St. mid-channel  256 2008-05-19\n",
       "15                           Saw Mill River  256 2008-05-19\n",
       "16       East River mid-channel at 23rd St.  256 2008-05-19\n",
       "17         Harlem River- Willis Ave. Bridge  256 2008-05-19\n",
       "18                         Cedar Pond Brook  254 2008-05-20\n",
       "19                       Croton Point Beach  254 2008-05-20"
      ]
     },
     "execution_count": 15,
     "metadata": {},
     "output_type": "execute_result"
    }
   ],
   "source": [
    "#top 20 gaps\n",
    "pd.set_option('display.float_format', lambda x: '%.0f' % x)\n",
    "gaps.sort_values('gap', ascending=False).head(20).reset_index().loc[:,['Site','gap','Date']]"
   ]
  },
  {
   "cell_type": "code",
   "execution_count": 16,
   "metadata": {
    "collapsed": false
   },
   "outputs": [
    {
     "name": "stderr",
     "output_type": "stream",
     "text": [
      "/Library/Frameworks/Python.framework/Versions/3.5/lib/python3.5/site-packages/matplotlib/__init__.py:872: UserWarning: axes.color_cycle is deprecated and replaced with axes.prop_cycle; please use the latter.\n",
      "  warnings.warn(self.msg_depr % (key, alt_key))\n"
     ]
    },
    {
     "data": {
      "text/plain": [
       "<ggplot: (-9223372036582010494)>"
      ]
     },
     "execution_count": 16,
     "metadata": {},
     "output_type": "execute_result"
    }
   ],
   "source": [
    "#take a look at when the most tested sites got tested\n",
    "most_tested = gaps.assign(most=gaps['Site'].isin(most['Site']))\n",
    "most_tested = most_tested.loc[most_tested['most'] == True]\n",
    "p = ggplot(most_tested, aes(x='gaps_csum', y=1, color='Site')) + geom_point(size=5)\n",
    "p = p + facet_grid('Site')\n",
    "p"
   ]
  },
  {
   "cell_type": "code",
   "execution_count": 17,
   "metadata": {
    "collapsed": false
   },
   "outputs": [
    {
     "data": {
      "text/plain": [
       "0.14482598724767229"
      ]
     },
     "execution_count": 17,
     "metadata": {},
     "output_type": "execute_result"
    }
   ],
   "source": [
    "#rain water and quailty\n",
    "h2o['EnteroCount'].corr(h2o['FourDayRainTotal'])"
   ]
  },
  {
   "cell_type": "code",
   "execution_count": 18,
   "metadata": {
    "collapsed": false
   },
   "outputs": [
    {
     "name": "stderr",
     "output_type": "stream",
     "text": [
      "/Library/Frameworks/Python.framework/Versions/3.5/lib/python3.5/site-packages/matplotlib/__init__.py:872: UserWarning: axes.color_cycle is deprecated and replaced with axes.prop_cycle; please use the latter.\n",
      "  warnings.warn(self.msg_depr % (key, alt_key))\n"
     ]
    },
    {
     "data": {
      "text/plain": [
       "<ggplot: (281051098)>"
      ]
     },
     "execution_count": 18,
     "metadata": {},
     "output_type": "execute_result"
    }
   ],
   "source": [
    "#graph\n",
    "p = ggplot(h2o.loc[h2o['EnteroCount'] < 2400], aes(x='FourDayRainTotal', y='EnteroCount', color='Site'))\n",
    "p = p + geom_point()\n",
    "p"
   ]
  },
  {
   "cell_type": "code",
   "execution_count": 19,
   "metadata": {
    "collapsed": false
   },
   "outputs": [
    {
     "data": {
      "text/html": [
       "<div>\n",
       "<table border=\"1\" class=\"dataframe\">\n",
       "  <thead>\n",
       "    <tr style=\"text-align: right;\">\n",
       "      <th></th>\n",
       "      <th>Site</th>\n",
       "      <th>cor</th>\n",
       "      <th>r_2</th>\n",
       "    </tr>\n",
       "  </thead>\n",
       "  <tbody>\n",
       "    <tr>\n",
       "      <th>0</th>\n",
       "      <td>Gay's Point mid-channel</td>\n",
       "      <td>0.729</td>\n",
       "      <td>0.532</td>\n",
       "    </tr>\n",
       "    <tr>\n",
       "      <th>1</th>\n",
       "      <td>Norrie Point Yacht Basin</td>\n",
       "      <td>0.719</td>\n",
       "      <td>0.517</td>\n",
       "    </tr>\n",
       "    <tr>\n",
       "      <th>2</th>\n",
       "      <td>The Battery mid-channel</td>\n",
       "      <td>0.699</td>\n",
       "      <td>0.489</td>\n",
       "    </tr>\n",
       "    <tr>\n",
       "      <th>3</th>\n",
       "      <td>Esopus Creek Entrance</td>\n",
       "      <td>0.693</td>\n",
       "      <td>0.481</td>\n",
       "    </tr>\n",
       "    <tr>\n",
       "      <th>4</th>\n",
       "      <td>Wappingers Creek</td>\n",
       "      <td>0.688</td>\n",
       "      <td>0.473</td>\n",
       "    </tr>\n",
       "    <tr>\n",
       "      <th>5</th>\n",
       "      <td>TZ Bridge mid-channel</td>\n",
       "      <td>0.676</td>\n",
       "      <td>0.457</td>\n",
       "    </tr>\n",
       "    <tr>\n",
       "      <th>6</th>\n",
       "      <td>Esopus Creek West</td>\n",
       "      <td>0.654</td>\n",
       "      <td>0.428</td>\n",
       "    </tr>\n",
       "    <tr>\n",
       "      <th>7</th>\n",
       "      <td>Poughkeepsie Launch Ramp</td>\n",
       "      <td>0.633</td>\n",
       "      <td>0.400</td>\n",
       "    </tr>\n",
       "    <tr>\n",
       "      <th>8</th>\n",
       "      <td>East River mid-channel at Roosevelt Is.</td>\n",
       "      <td>0.628</td>\n",
       "      <td>0.394</td>\n",
       "    </tr>\n",
       "    <tr>\n",
       "      <th>9</th>\n",
       "      <td>Athens</td>\n",
       "      <td>0.621</td>\n",
       "      <td>0.385</td>\n",
       "    </tr>\n",
       "  </tbody>\n",
       "</table>\n",
       "</div>"
      ],
      "text/plain": [
       "                                      Site   cor   r_2\n",
       "0                  Gay's Point mid-channel 0.729 0.532\n",
       "1                 Norrie Point Yacht Basin 0.719 0.517\n",
       "2                  The Battery mid-channel 0.699 0.489\n",
       "3                    Esopus Creek Entrance 0.693 0.481\n",
       "4                         Wappingers Creek 0.688 0.473\n",
       "5                    TZ Bridge mid-channel 0.676 0.457\n",
       "6                        Esopus Creek West 0.654 0.428\n",
       "7                 Poughkeepsie Launch Ramp 0.633 0.400\n",
       "8  East River mid-channel at Roosevelt Is. 0.628 0.394\n",
       "9                                   Athens 0.621 0.385"
      ]
     },
     "execution_count": 19,
     "metadata": {},
     "output_type": "execute_result"
    }
   ],
   "source": [
    "#check each site for correlations\n",
    "pd.set_option('display.float_format', lambda x: '%.3f' % x)\n",
    "h2o_cor = h2o.groupby('Site')[['FourDayRainTotal','EnteroCount']].corr()\n",
    "h2o_cor = pd.DataFrame(h2o_cor.ix[0::2,'EnteroCount'].sort_values(ascending=False)).reset_index()\n",
    "h2o_cor = h2o_cor.drop(['level_1'], axis=1)\n",
    "h2o_cor.columns=['Site','cor']\n",
    "h2o_cor = h2o_cor.assign(r_2 = h2o_cor['cor']*h2o_cor['cor'])\n",
    "high_cor = h2o_cor.head(10)\n",
    "high_cor"
   ]
  }
 ],
 "metadata": {
  "kernelspec": {
   "display_name": "Python 3",
   "language": "python",
   "name": "python3"
  },
  "language_info": {
   "codemirror_mode": {
    "name": "ipython",
    "version": 3
   },
   "file_extension": ".py",
   "mimetype": "text/x-python",
   "name": "python",
   "nbconvert_exporter": "python",
   "pygments_lexer": "ipython3",
   "version": "3.5.1"
  }
 },
 "nbformat": 4,
 "nbformat_minor": 0
}
